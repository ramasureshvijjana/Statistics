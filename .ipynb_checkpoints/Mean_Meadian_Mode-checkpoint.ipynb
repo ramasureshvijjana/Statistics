{
 "cells": [
  {
   "cell_type": "code",
   "execution_count": 1,
   "id": "8e8164f1",
   "metadata": {},
   "outputs": [],
   "source": [
    "# Import required packages.\n",
    "\n",
    "from numpy import random as rdm\n",
    "import matplotlib.pyplot as plt\n",
    "import seaborn as sns\n",
    "import scipy as spy\n",
    "import numpy as np"
   ]
  },
  {
   "cell_type": "code",
   "execution_count": 2,
   "id": "4947630c",
   "metadata": {},
   "outputs": [],
   "source": [
    "# Remove warnings\n",
    "\n",
    "import warnings\n",
    "warnings.filterwarnings(\"ignore\")"
   ]
  },
  {
   "cell_type": "markdown",
   "id": "3f4cf009",
   "metadata": {},
   "source": [
    "### Genarate Age data"
   ]
  },
  {
   "cell_type": "code",
   "execution_count": 3,
   "id": "056ad40e",
   "metadata": {},
   "outputs": [
    {
     "name": "stdout",
     "output_type": "stream",
     "text": [
      "[27 33 82 46 47 26 91 18 58 54 34 29 72 80 51 90 96 67 69 72 95 87 31 43\n",
      " 31 48 48 30 83 49 75 54 45 36 95 40 41 29 46 92]\n"
     ]
    }
   ],
   "source": [
    "\n",
    "rdm.seed(10) # Fix the seed for random\n",
    "ages = rdm.randint(18, 100, size=40) # Genarating random ages between 18 to 100 years\n",
    "print(ages)\n"
   ]
  },
  {
   "cell_type": "markdown",
   "id": "262f8987",
   "metadata": {},
   "source": [
    "### Mean\n",
    "\n",
    "1. Average value of a variable/feature/list is called mean.\n",
    "2. Mean is calculated by dividing the sum of given numbers by the total number of observations.  \n",
    "\n",
    "#### Formula:\n",
    "Mean = (Sum of all the observations/Total number of observations)\n"
   ]
  },
  {
   "cell_type": "code",
   "execution_count": 4,
   "id": "f01034fd",
   "metadata": {},
   "outputs": [
    {
     "name": "stdout",
     "output_type": "stream",
     "text": [
      "Mean of ages : 56.0\n"
     ]
    }
   ],
   "source": [
    "# Average (mean) of ages \n",
    "print('Mean of ages :',np.mean(ages))"
   ]
  },
  {
   "cell_type": "markdown",
   "id": "8adcd823",
   "metadata": {},
   "source": [
    "### Median\n",
    "\n",
    "1. The median is the middle value in a list ordered from smallest to largest. "
   ]
  },
  {
   "cell_type": "code",
   "execution_count": 5,
   "id": "66eacf53",
   "metadata": {},
   "outputs": [
    {
     "name": "stdout",
     "output_type": "stream",
     "text": [
      "Median of ages : 48.5\n"
     ]
    }
   ],
   "source": [
    "# Medien\n",
    "print('Median of ages :',np.median(ages))"
   ]
  },
  {
   "cell_type": "markdown",
   "id": "1b8c4e2b",
   "metadata": {},
   "source": [
    "### Mode\n",
    "\n",
    "1. The mode is the most frequently occurring value on the list or feature."
   ]
  },
  {
   "cell_type": "code",
   "execution_count": 6,
   "id": "a3c2909c",
   "metadata": {},
   "outputs": [
    {
     "name": "stdout",
     "output_type": "stream",
     "text": [
      "Mode information of ages : ModeResult(mode=array([29]), count=array([2]))\n",
      "Mode = [29]\n",
      "Count = [2]\n"
     ]
    }
   ],
   "source": [
    "# Mode\n",
    "md = spy.stats.mode(ages)\n",
    "print(f'Mode information of ages : {md}\\nMode = {md.mode}\\nCount = {md.count}')"
   ]
  },
  {
   "cell_type": "markdown",
   "id": "2fff4862",
   "metadata": {},
   "source": [
    "### Standard deviation\n",
    "\n",
    "1. Standard deviation is a statistical measure that explains how much data clusters around the mean.\n",
    "2. The square root of the average of squares of deviation of each data point from mean is called Standard deviation\n",
    "3. It is the average of the squared differences from the Mean.\n",
    "4. It is denoted with sigma.\n"
   ]
  },
  {
   "cell_type": "code",
   "execution_count": 7,
   "id": "6c0ac093",
   "metadata": {},
   "outputs": [
    {
     "name": "stdout",
     "output_type": "stream",
     "text": [
      "23.573126811950672\n",
      "23.276597689524987\n"
     ]
    }
   ],
   "source": [
    "# Standard Deviation\n",
    "print(spy.stats.tstd(ages))\n",
    "\n",
    "print(np.std(ages))"
   ]
  },
  {
   "cell_type": "markdown",
   "id": "c08a4267",
   "metadata": {},
   "source": [
    "### Plot a box and swarm plots to understand mean and standard deviation."
   ]
  },
  {
   "cell_type": "code",
   "execution_count": 8,
   "id": "8ee177cb",
   "metadata": {},
   "outputs": [
    {
     "data": {
      "image/png": "[encoded data removed]",
      "text/plain": [
       "<Figure size 360x576 with 1 Axes>"
      ]
     },
     "metadata": {
      "needs_background": "light"
     },
     "output_type": "display_data"
    }
   ],
   "source": [
    "plt.figure(figsize=(5,8))\n",
    "ax = sns.boxplot(y = ages, color='y')\n",
    "ax = sns.swarmplot(y = ages, color='g')"
   ]
  },
  {
   "cell_type": "markdown",
   "id": "c54e1fb7",
   "metadata": {},
   "source": [
    "### Sumup Above Code"
   ]
  },
  {
   "cell_type": "code",
   "execution_count": 9,
   "id": "582ab20e",
   "metadata": {},
   "outputs": [
    {
     "data": {
      "text/plain": [
       "array([27, 33, 82, 46, 47, 26, 91, 18, 58, 54, 34, 29, 72, 80, 51, 90, 96,\n",
       "       67, 69, 72, 95, 87, 31, 43, 31, 48, 48, 30, 83, 49, 75, 54, 45, 36,\n",
       "       95, 40, 41, 29, 46, 92])"
      ]
     },
     "metadata": {},
     "output_type": "display_data"
    },
    {
     "name": "stdout",
     "output_type": "stream",
     "text": [
      "Mean   : 56.0\n",
      "Median : 48.5\n",
      "Mode   : mode = 29,     count = 2\n",
      "\n",
      "Standerd deviation: 23.573126811950672\n"
     ]
    },
    {
     "data": {
      "image/png": "[encoded data removed]",
      "text/plain": [
       "<Figure size 360x576 with 1 Axes>"
      ]
     },
     "metadata": {
      "needs_background": "light"
     },
     "output_type": "display_data"
    }
   ],
   "source": [
    "# Import required packages.\n",
    "\n",
    "from numpy import random as rdm\n",
    "import matplotlib.pyplot as plt\n",
    "import seaborn as sns\n",
    "import scipy as spy\n",
    "import numpy as np\n",
    "\n",
    "\n",
    "# Remove warnings\n",
    "import warnings\n",
    "warnings.filterwarnings(\"ignore\")\n",
    "\n",
    "\n",
    "# Define a function\n",
    "def mmm_std(sgl_lst):\n",
    "    \n",
    "    # Calculate the mean, median, mode, standard deviation.\n",
    "    mean = np.mean(sgl_lst)\n",
    "    median = np.median(sgl_lst)\n",
    "    mode = spy.stats.mode(sgl_lst)\n",
    "    std = spy.stats.tstd(sgl_lst)\n",
    "    \n",
    "    # Print data\n",
    "    display(sgl_lst)\n",
    "    \n",
    "    # Show boxplot\n",
    "    plt.figure(figsize=(5,8))\n",
    "    ax = sns.boxplot(y = ages, color='y')\n",
    "    ax = sns.swarmplot(y = ages, color='g')\n",
    "    \n",
    "    # Print details\n",
    "    print(f'Mean   : {mean}\\nMedian : {median}\\nMode   : mode = {mode.mode[0]}, \\\n",
    "    count = {mode.count[0]}\\n\\nStanderd deviation: {std}')\n",
    "    \n",
    "    \n",
    "    \n",
    "# We can get all details by calling mmm_std function\n",
    "mmm_std(ages)"
   ]
  }
 ],
 "metadata": {
  "kernelspec": {
   "display_name": "Python 3",
   "language": "python",
   "name": "python3"
  },
  "language_info": {
   "codemirror_mode": {
    "name": "ipython",
    "version": 3
   },
   "file_extension": ".py",
   "mimetype": "text/x-python",
   "name": "python",
   "nbconvert_exporter": "python",
   "pygments_lexer": "ipython3",
   "version": "3.8.3"
  }
 },
 "nbformat": 4,
 "nbformat_minor": 5
}
