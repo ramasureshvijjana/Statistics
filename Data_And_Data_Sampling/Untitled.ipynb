{
 "cells": [
  {
   "cell_type": "markdown",
   "id": "4f158670",
   "metadata": {},
   "source": [
    "## STATISTICS"
   ]
  },
  {
   "cell_type": "markdown",
   "id": "4ddbafae",
   "metadata": {},
   "source": [
    "1. The science of statistics deals with the collection, analysis, organization, and presentation of data.\n",
    "2. Now, let's do a task on data collecton.\n"
   ]
  },
  {
   "cell_type": "markdown",
   "id": "fddd34fd",
   "metadata": {},
   "source": [
    "### Data Collection"
   ]
  },
  {
   "cell_type": "markdown",
   "id": "044d6416",
   "metadata": {},
   "source": [
    "#### Q1) \n",
    "In a class write down the average time (in hours, to the nearest halfhour) they sleep per night of each student. Your instructor will record the data. Then create a simple graph (called a dot plot) of the data. A dot plot consists of a number line and dots (or points). For example, consider the following data:\n",
    "\n",
    "5, 5.5, 6, 6, 6, 6.5, 6.5, 6.5, 6.5, 7, 7, 8, 8, 9"
   ]
  },
  {
   "cell_type": "code",
   "execution_count": 13,
   "id": "3b281919",
   "metadata": {},
   "outputs": [
    {
     "data": {
      "image/png": "[encoded data removed]",
      "text/plain": [
       "<Figure size 432x288 with 1 Axes>"
      ]
     },
     "metadata": {
      "needs_background": "light"
     },
     "output_type": "display_data"
    }
   ],
   "source": [
    "# Import required libreries.\n",
    "import matplotlib.pyplot as plt\n",
    "import seaborn as sns\n",
    "import numpy as np\n",
    "\n",
    "# Create a function for dot plot as dot_plt.\n",
    "def dot_plt(dt):\n",
    "    \n",
    "    # Assign x, y axises names.\n",
    "    plt.xlabel('Sleep Time (hr)', color='g')\n",
    "    plt.ylabel('Student ID', color='g')\n",
    "    \n",
    "    # Draw dot plot.\n",
    "    sns.scatterplot(x=dt, y=range(1,len(dt)+1), color='orange')\n",
    "    # Display plot.\n",
    "    plt.show()\n",
    "    \n",
    "    \n",
    "# Create or collect data.\n",
    "data = np.array([5, 5.5, 6.0, 6.0, 6.0, 6.5, 6.5, 6.5, 6.5, 7.0, 7.0, 8.0, 8.0, 9.0])\n",
    "# Calling dot_plt function.\n",
    "dot_plt(data)"
   ]
  },
  {
   "cell_type": "code",
   "execution_count": null,
   "id": "836bafa1",
   "metadata": {},
   "outputs": [],
   "source": []
  }
 ],
 "metadata": {
  "kernelspec": {
   "display_name": "Python 3",
   "language": "python",
   "name": "python3"
  },
  "language_info": {
   "codemirror_mode": {
    "name": "ipython",
    "version": 3
   },
   "file_extension": ".py",
   "mimetype": "text/x-python",
   "name": "python",
   "nbconvert_exporter": "python",
   "pygments_lexer": "ipython3",
   "version": "3.8.3"
  }
 },
 "nbformat": 4,
 "nbformat_minor": 5
}
