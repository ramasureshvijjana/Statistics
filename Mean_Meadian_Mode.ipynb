{
 "cells": [
  {
   "cell_type": "code",
   "execution_count": 1,
   "id": "8e8164f1",
   "metadata": {},
   "outputs": [],
   "source": [
    "# Import required packages.\n",
    "\n",
    "from numpy import random as rdm\n",
    "import matplotlib.pyplot as plt\n",
    "import seaborn as sns\n",
    "import scipy as spy\n",
    "import numpy as np"
   ]
  },
  {
   "cell_type": "code",
   "execution_count": 2,
   "id": "4947630c",
   "metadata": {},
   "outputs": [],
   "source": [
    "# Remove warnings\n",
    "\n",
    "import warnings\n",
    "warnings.filterwarnings(\"ignore\")"
   ]
  },
  {
   "cell_type": "markdown",
   "id": "3f4cf009",
   "metadata": {},
   "source": [
    "### Genarate Age data"
   ]
  },
  {
   "cell_type": "code",
   "execution_count": 3,
   "id": "056ad40e",
   "metadata": {},
   "outputs": [
    {
     "name": "stdout",
     "output_type": "stream",
     "text": [
      "[27 33 82 46 47 26 91 18 58 54 34 29 72 80 51 90 96 67 69 72 95 87 31 43\n",
      " 31 48 48 30 83 49 75 54 45 36 95 40 41 29 46 92]\n"
     ]
    }
   ],
   "source": [
    "\n",
    "rdm.seed(10) # Fix the seed for random\n",
    "ages = rdm.randint(18, 100, size=40) # Genarating random ages between 18 to 100 years\n",
    "print(ages)\n"
   ]
  },
  {
   "cell_type": "markdown",
   "id": "262f8987",
   "metadata": {},
   "source": [
    "### Mean\n",
    "\n",
    "1. Average value of a variable/feature/list is called mean.\n",
    "2. Mean is calculated by dividing the sum of given numbers by the total number of observations.  \n",
    "\n",
    "#### Formula:\n",
    "Mean = (Sum of all the observations/Total number of observations)\n"
   ]
  },
  {
   "cell_type": "code",
   "execution_count": 4,
   "id": "f01034fd",
   "metadata": {},
   "outputs": [
    {
     "name": "stdout",
     "output_type": "stream",
     "text": [
      "Mean of ages : 56.0\n"
     ]
    }
   ],
   "source": [
    "# Average (mean) of ages \n",
    "print('Mean of ages :',np.mean(ages))"
   ]
  },
  {
   "cell_type": "markdown",
   "id": "8adcd823",
   "metadata": {},
   "source": [
    "### Median\n",
    "\n",
    "1. The median is the middle value in a list ordered from smallest to largest. "
   ]
  },
  {
   "cell_type": "code",
   "execution_count": 5,
   "id": "66eacf53",
   "metadata": {},
   "outputs": [
    {
     "name": "stdout",
     "output_type": "stream",
     "text": [
      "Median of ages : 48.5\n"
     ]
    }
   ],
   "source": [
    "# Medien\n",
    "print('Median of ages :',np.median(ages))"
   ]
  },
  {
   "cell_type": "markdown",
   "id": "1b8c4e2b",
   "metadata": {},
   "source": [
    "### Mode\n",
    "\n",
    "1. The mode is the most frequently occurring value on the list or feature."
   ]
  },
  {
   "cell_type": "code",
   "execution_count": 6,
   "id": "a3c2909c",
   "metadata": {},
   "outputs": [
    {
     "name": "stdout",
     "output_type": "stream",
     "text": [
      "Mode information of ages : ModeResult(mode=array([29]), count=array([2]))\n",
      "Mode = [29]\n",
      "Count = [2]\n"
     ]
    }
   ],
   "source": [
    "# Mode\n",
    "md = spy.stats.mode(ages)\n",
    "print(f'Mode information of ages : {md}\\nMode = {md.mode}\\nCount = {md.count}')"
   ]
  },
  {
   "cell_type": "markdown",
   "id": "2fff4862",
   "metadata": {},
   "source": [
    "### Standard deviation\n",
    "\n",
    "1. Standard deviation is a statistical measure that explains how much data clusters around the mean.\n",
    "2. The square root of the average of squares of deviation of each data point from mean is called Standard deviation\n",
    "3. It is the average of the squared differences from the Mean.\n",
    "4. It is denoted with sigma.\n"
   ]
  },
  {
   "cell_type": "code",
   "execution_count": 7,
   "id": "6c0ac093",
   "metadata": {},
   "outputs": [
    {
     "name": "stdout",
     "output_type": "stream",
     "text": [
      "23.573126811950672\n",
      "23.276597689524987\n"
     ]
    }
   ],
   "source": [
    "# Standard Deviation\n",
    "print(spy.stats.tstd(ages))\n",
    "\n",
    "print(np.std(ages))"
   ]
  },
  {
   "cell_type": "markdown",
   "id": "c08a4267",
   "metadata": {},
   "source": [
    "### Plot a box and swarm plots to understand mean and standard deviation."
   ]
  },
  {
   "cell_type": "code",
   "execution_count": 8,
   "id": "8ee177cb",
   "metadata": {},
   "outputs": [
    {
     "data": {
      "image/png": "[encoded data removed]",
      "text/plain": [
       "<Figure size 360x576 with 1 Axes>"
      ]
     },
     "metadata": {
      "needs_background": "light"
     },
     "output_type": "display_data"
    }
   ],
   "source": [
    "plt.figure(figsize=(5,8))\n",
    "ax = sns.boxplot(y = ages, color='y')\n",
    "ax = sns.swarmplot(y = ages, color='g')"
   ]
  },
  {
   "cell_type": "markdown",
   "id": "c54e1fb7",
   "metadata": {},
   "source": [
    "### Sumup Above Code"
   ]
  },
  {
   "cell_type": "code",
   "execution_count": 17,
   "id": "582ab20e",
   "metadata": {},
   "outputs": [],
   "source": [
    "# Import required packages.\n",
    "\n",
    "from numpy import random as rdm\n",
    "import matplotlib.pyplot as plt\n",
    "import seaborn as sns\n",
    "import pandas as pd\n",
    "import scipy as spy\n",
    "import numpy as np\n",
    "\n",
    "\n",
    "# Remove warnings\n",
    "import warnings\n",
    "warnings.filterwarnings(\"ignore\")\n",
    "\n",
    "\n",
    "# Define a function\n",
    "def mmm_std(sgl_lst):\n",
    "    \n",
    "    # Calculate the mean, median, mode, standard deviation.\n",
    "    mean = np.mean(sgl_lst)\n",
    "    median = np.median(sgl_lst)\n",
    "    mode = spy.stats.mode(sgl_lst)\n",
    "    std = spy.stats.tstd(sgl_lst)\n",
    "    \n",
    "    # Print data\n",
    "    display(sgl_lst)\n",
    "    \n",
    "    \n",
    "    # Print details\n",
    "    print(f'Mean   : {mean}\\nMedian : {median}\\nMode   : mode = {mode.mode[0]}, \\\n",
    "    count = {mode.count[0]}\\n\\nStanderd deviation: {std}')\n",
    "    \n",
    "    data = std_vls(mean, std, sgl_lst)\n",
    "    display(data)\n",
    "    \n",
    "    sd_plot(mean, sgl_lst, data)\n",
    "    \n",
    "    # Show boxplot\n",
    "    plt.figure(figsize=(5,8))\n",
    "    ax = sns.boxplot(y = ages, color='y')\n",
    "    ax = sns.swarmplot(y = ages, color='g')\n",
    "    plt.show()\n",
    "    \n",
    "\n",
    "    \n",
    "def std_vls(mean, std, sgl_lst):\n",
    "\n",
    "    # SD calculations\n",
    "    sd_1 = [mean-std, mean+std]\n",
    "    sd_2 = [mean-(2*std), mean+(2*std)]\n",
    "    sd_3 = [mean-(3*std), mean+(3*std)]\n",
    "    \n",
    "    s = len(sgl_lst)\n",
    "    sd_1.append((len(sgl_lst[(sgl_lst > sd_1[0]) & (sgl_lst < sd_1[1])]) / s )*100)\n",
    "    \n",
    "    sd_2n = len(sgl_lst[(sgl_lst > sd_2[0]) & (sgl_lst < sd_1[0])])\n",
    "    sd_2p = len(sgl_lst[(sgl_lst > sd_1[1]) & (sgl_lst < sd_2[1])])\n",
    "    \n",
    "    sd_3n = len(sgl_lst[(sgl_lst > sd_3[0]) & (sgl_lst < sd_2[0])])\n",
    "    sd_3p = len(sgl_lst[(sgl_lst > sd_2[1]) & (sgl_lst < sd_3[1])])\n",
    "    \n",
    "    sd_2.append(((sd_2n + sd_2p) / s ) * 100)\n",
    "    sd_3.append(((sd_3n + sd_3p) / s ) * 100)\n",
    "    \n",
    "    data = pd.DataFrame([sd_1, sd_2, sd_3], columns=['Left', 'Right', '% of data'] )\n",
    "    s = pd.Series(['First SD', 'Second SD', 'Third SD'])\n",
    "    data.set_index(s, inplace = True)\n",
    "    \n",
    "    \n",
    "    return data\n",
    "\n",
    "\n",
    "def sd_plot(mean, sgl_lst, data):\n",
    "    s= len(sgl_lst)\n",
    "    end = range(1, s+1)\n",
    "    \n",
    "    plt.xlabel('feature')\n",
    "    plt.ylabel('Index')\n",
    "    plt.scatter(sgl_lst, end)\n",
    "    plt.plot([mean] * s, end)\n",
    "    \n",
    "    plt.plot([data['Left']['First SD']] * s, end, color= 'g')\n",
    "    plt.plot([data['Right']['First SD']] * s, end, color= 'g')\n",
    "    \n",
    "    plt.plot([data['Left']['Second SD']] * s, end, color= 'y')\n",
    "    plt.plot([data['Right']['Second SD']] * s, end, color= 'y')\n",
    "    \n",
    "    plt.plot([data['Left']['Third SD']] * s, end, color= 'r')\n",
    "    plt.plot([data['Right']['Third SD']] * s, end, color= 'r')\n",
    "    plt.show()\n",
    "    \n",
    "    sns.histplot(data=sgl_lst, kde=True, color='g')\n",
    "    plt.show()"
   ]
  },
  {
   "cell_type": "code",
   "execution_count": 18,
   "id": "2c006c8c",
   "metadata": {},
   "outputs": [
    {
     "data": {
      "text/plain": [
       "array([64, 73, 87, 19, 90, 68, 27, 76, 73, 73, 75, 54, 68, 62, 56, 70, 21,\n",
       "       18, 73, 39, 39, 91, 56, 74, 84, 64, 48, 26, 67, 84, 76, 50, 58, 60,\n",
       "       63, 51, 50, 46, 21, 97])"
      ]
     },
     "metadata": {},
     "output_type": "display_data"
    },
    {
     "name": "stdout",
     "output_type": "stream",
     "text": [
      "Mean   : 59.775\n",
      "Median : 63.5\n",
      "Mode   : mode = 73,     count = 4\n",
      "\n",
      "Standerd deviation: 21.090145347276078\n"
     ]
    },
    {
     "data": {
      "text/html": [
       "<div>\n",
       "<style scoped>\n",
       "    .dataframe tbody tr th:only-of-type {\n",
       "        vertical-align: middle;\n",
       "    }\n",
       "\n",
       "    .dataframe tbody tr th {\n",
       "        vertical-align: top;\n",
       "    }\n",
       "\n",
       "    .dataframe thead th {\n",
       "        text-align: right;\n",
       "    }\n",
       "</style>\n",
       "<table border=\"1\" class=\"dataframe\">\n",
       "  <thead>\n",
       "    <tr style=\"text-align: right;\">\n",
       "      <th></th>\n",
       "      <th>Left</th>\n",
       "      <th>Right</th>\n",
       "      <th>% of data</th>\n",
       "    </tr>\n",
       "  </thead>\n",
       "  <tbody>\n",
       "    <tr>\n",
       "      <th>First SD</th>\n",
       "      <td>38.684855</td>\n",
       "      <td>80.865145</td>\n",
       "      <td>70.0</td>\n",
       "    </tr>\n",
       "    <tr>\n",
       "      <th>Second SD</th>\n",
       "      <td>17.594709</td>\n",
       "      <td>101.955291</td>\n",
       "      <td>30.0</td>\n",
       "    </tr>\n",
       "    <tr>\n",
       "      <th>Third SD</th>\n",
       "      <td>-3.495436</td>\n",
       "      <td>123.045436</td>\n",
       "      <td>0.0</td>\n",
       "    </tr>\n",
       "  </tbody>\n",
       "</table>\n",
       "</div>"
      ],
      "text/plain": [
       "                Left       Right  % of data\n",
       "First SD   38.684855   80.865145       70.0\n",
       "Second SD  17.594709  101.955291       30.0\n",
       "Third SD   -3.495436  123.045436        0.0"
      ]
     },
     "metadata": {},
     "output_type": "display_data"
    },
    {
     "data": {
      "image/png": "[encoded data removed]",
      "text/plain": [
       "<Figure size 432x288 with 1 Axes>"
      ]
     },
     "metadata": {
      "needs_background": "light"
     },
     "output_type": "display_data"
    },
    {
     "data": {
      "image/png": "[encoded data removed]",
      "text/plain": [
       "<Figure size 432x288 with 1 Axes>"
      ]
     },
     "metadata": {
      "needs_background": "light"
     },
     "output_type": "display_data"
    },
    {
     "data": {
      "image/png": "[encoded data removed]",
      "text/plain": [
       "<Figure size 360x576 with 1 Axes>"
      ]
     },
     "metadata": {
      "needs_background": "light"
     },
     "output_type": "display_data"
    }
   ],
   "source": [
    "\n",
    "rdm.seed(4) # Fix the seed for random (2,)\n",
    "ages = rdm.randint(18, 100, size=40) # Genarating random ages between 18 to 100 years\n",
    "\n",
    "# We can get all details by calling mmm_std function\n",
    "mmm_std(ages)\n"
   ]
  },
  {
   "cell_type": "code",
   "execution_count": null,
   "id": "61729cc1",
   "metadata": {},
   "outputs": [],
   "source": []
  }
 ],
 "metadata": {
  "kernelspec": {
   "display_name": "Python 3",
   "language": "python",
   "name": "python3"
  },
  "language_info": {
   "codemirror_mode": {
    "name": "ipython",
    "version": 3
   },
   "file_extension": ".py",
   "mimetype": "text/x-python",
   "name": "python",
   "nbconvert_exporter": "python",
   "pygments_lexer": "ipython3",
   "version": "3.8.3"
  }
 },
 "nbformat": 4,
 "nbformat_minor": 5
}
